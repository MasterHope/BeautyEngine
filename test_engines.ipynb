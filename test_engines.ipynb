{
 "cells": [
  {
   "cell_type": "code",
   "execution_count": 11,
   "metadata": {},
   "outputs": [
    {
     "name": "stderr",
     "output_type": "stream",
     "text": [
      "100%|██████████| 2/2 [02:30<00:00, 75.12s/it]"
     ]
    },
    {
     "name": "stdout",
     "output_type": "stream",
     "text": [
      "{'win': 0, 'draw': 2, 'lose': 0}\n"
     ]
    },
    {
     "name": "stderr",
     "output_type": "stream",
     "text": [
      "\n"
     ]
    }
   ],
   "source": [
    "import chess\n",
    "import chess.engine\n",
    "import random\n",
    "from tqdm import tqdm\n",
    "\n",
    "def engine_test(dir1, dir2, timeSeconds, numEpisodes):\n",
    "    engine = chess.engine.SimpleEngine.popen_uci(dir1)\n",
    "    engine2 = chess.engine.SimpleEngine.popen_uci(dir2)\n",
    "    engine2.configure({\"Skill Level\":1})\n",
    "    result = None\n",
    "    dict_result_game = {\"win\":0, \"draw\":0, \"loss\":0}\n",
    "    turn = random.randrange(0,1)\n",
    "    for i in tqdm(range(0, numEpisodes)):\n",
    "        board = chess.Board()\n",
    "        while not board.is_game_over():\n",
    "            if turn == 0:\n",
    "                if board.turn == chess.WHITE:\n",
    "                    result = engine.play(board, chess.engine.Limit(timeSeconds))\n",
    "                else:\n",
    "                    result = engine2.play(board, chess.engine.Limit(timeSeconds))\n",
    "            else:\n",
    "                if board.turn == chess.BLACK:\n",
    "                    result = engine.play(board, chess.engine.Limit(timeSeconds))\n",
    "                else:\n",
    "                    result = engine2.play(board, chess.engine.Limit(timeSeconds))\n",
    "            board.push(result.move)\n",
    "        #game ended\n",
    "        if turn == 0:\n",
    "            if board.is_variant_win() and board.turn == chess.BLACK:\n",
    "                dict_result_game[\"win\"] += 1\n",
    "            elif board.is_variant_loss() and board.turn == chess.WHITE:\n",
    "                dict_result_game[\"loss\"] += 1\n",
    "            else:\n",
    "                dict_result_game[\"draw\"] += 1\n",
    "        else:\n",
    "            if board.is_variant_win() and board.turn == chess.WHITE:\n",
    "                dict_result_game[\"win\"] += 1\n",
    "            elif board.is_variant_loss() and board.turn == chess.BLACK:\n",
    "                dict_result_game[\"loss\"] += 1\n",
    "            else:\n",
    "                dict_result_game[\"draw\"] += 1\n",
    "    return dict_result_game\n",
    "\n",
    "\n",
    "    \n",
    "    \n",
    "dir1 = r\"C:\\Users\\belle\\OneDrive\\Desktop\\chess_thesis\\BeautyEngine\\play.exe\"\n",
    "dir2 = r\"C:\\Users\\belle\\OneDrive\\Desktop\\chess_thesis\\BeautyEngine\\stockfish-windows-x86-64-avx2.exe\"\n",
    "print(engine_test(dir1, dir2, 1, 2))\n",
    "\n",
    "\n"
   ]
  }
 ],
 "metadata": {
  "kernelspec": {
   "display_name": "Python 3",
   "language": "python",
   "name": "python3"
  },
  "language_info": {
   "codemirror_mode": {
    "name": "ipython",
    "version": 3
   },
   "file_extension": ".py",
   "mimetype": "text/x-python",
   "name": "python",
   "nbconvert_exporter": "python",
   "pygments_lexer": "ipython3",
   "version": "3.9.2"
  }
 },
 "nbformat": 4,
 "nbformat_minor": 2
}
