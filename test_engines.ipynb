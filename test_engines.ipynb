{
 "cells": [
  {
   "cell_type": "code",
   "execution_count": 2,
   "metadata": {},
   "outputs": [
    {
     "name": "stderr",
     "output_type": "stream",
     "text": [
      "100%|██████████| 1/1 [01:01<00:00, 61.26s/it]\n"
     ]
    },
    {
     "name": "stdout",
     "output_type": "stream",
     "text": [
      "[Event \"?\"]\n",
      "[Site \"?\"]\n",
      "[Date \"????.??.??\"]\n",
      "[Round \"?\"]\n",
      "[White \"?\"]\n",
      "[Black \"?\"]\n",
      "[Result \"*\"]\n",
      "\n",
      "1. Nf3 d5 2. d4 e6 3. Nc3 Nf6 4. e3 c5 5. Bd3 Be7 6. O-O O-O 7. dxc5 Nbd7 8. b4 a5 9. c6 bxc6 10. bxa5 Qxa5 11. Bd2 e5 12. e4 Qc7 13. exd5 cxd5 14. Nb5 Qb6 15. c4 e4 16. Be3 Bc5 17. Bxc5 Nxc5 18. Be2 exf3 19. Bxf3 Bb7 20. Qd4 Rad8 21. Rad1 dxc4 22. Qxc4 Bxf3 23. gxf3 Ne6 24. Rxd8 Rxd8 25. a4 Nh5 26. Ra1 Nhf4 27. Rf1 Nd4 28. Nd6 Qxd6 29. Kh1 Qa3 30. Qxf7+ Kxf7 31. Kg1 Nde2+ 32. Kh1 Qxf3# *\n",
      "{'win': 0, 'draw': 0, 'loss': 1}\n"
     ]
    }
   ],
   "source": [
    "import chess\n",
    "import chess.engine\n",
    "import chess.pgn\n",
    "\n",
    "import random\n",
    "from tqdm import tqdm\n",
    "\n",
    "def engine_test(dir1, dir2, timeSeconds, numEpisodes):\n",
    "    engine = chess.engine.SimpleEngine.popen_uci(dir1)\n",
    "    engine2 = chess.engine.SimpleEngine.popen_uci(dir2)\n",
    "    engine2.configure({\"UCI_elo\":500})\n",
    "    result = None\n",
    "    dict_result_game = {\"win\":0, \"draw\":0, \"loss\":0}\n",
    "    for i in tqdm(range(0, numEpisodes)):\n",
    "        game = chess.pgn.Game()\n",
    "        node = game\n",
    "        turn = random.randrange(0,1)\n",
    "        board = chess.Board()\n",
    "        while not board.is_game_over():\n",
    "            if turn == 0:\n",
    "                if board.turn == chess.WHITE:\n",
    "                    result = engine.play(board, chess.engine.Limit(timeSeconds))\n",
    "                else:\n",
    "                    result = engine2.play(board, chess.engine.Limit(timeSeconds))\n",
    "            else:\n",
    "                if board.turn == chess.BLACK:\n",
    "                    result = engine.play(board, chess.engine.Limit(timeSeconds))\n",
    "                else:\n",
    "                    result = engine2.play(board, chess.engine.Limit(timeSeconds))\n",
    "            node = node.add_variation(result.move)\n",
    "            board.push(result.move)\n",
    "        #game ended\n",
    "        print(game)\n",
    "        player_to_win = board.outcome().winner\n",
    "        if turn == 0:\n",
    "            if player_to_win == chess.WHITE:\n",
    "                dict_result_game[\"win\"] += 1\n",
    "            elif player_to_win == chess.BLACK:\n",
    "                dict_result_game[\"loss\"] += 1\n",
    "            else:\n",
    "                dict_result_game[\"draw\"] += 1\n",
    "        else:\n",
    "            if player_to_win == chess.BLACK:\n",
    "                dict_result_game[\"win\"] += 1\n",
    "            elif player_to_win == chess.WHITE:\n",
    "                dict_result_game[\"loss\"] += 1\n",
    "            else:\n",
    "                dict_result_game[\"draw\"] += 1\n",
    "\n",
    "    engine.quit()\n",
    "    engine2.quit()\n",
    "    return dict_result_game\n",
    "\n",
    "\n",
    "    \n",
    "    \n",
    "dir1 = r\"C:\\Users\\belle\\OneDrive\\Desktop\\chess_thesis\\BeautyEngine\\play.exe\"\n",
    "dir2 = r\"C:\\Users\\belle\\OneDrive\\Desktop\\chess_thesis\\BeautyEngine\\stockfish-windows-x86-64-avx2.exe\"\n",
    "dir3 = r\"C:\\Users\\belle\\OneDrive\\Desktop\\chess_thesis\\BeautyEngine\\fairy-stockfish_x86-64.exe\"\n",
    "second_for_move = 0.1\n",
    "episodes = 100\n",
    "print(engine_test(dir1, dir3, second_for_move, episodes))\n",
    "\n",
    "\n"
   ]
  }
 ],
 "metadata": {
  "kernelspec": {
   "display_name": "Python 3",
   "language": "python",
   "name": "python3"
  },
  "language_info": {
   "codemirror_mode": {
    "name": "ipython",
    "version": 3
   },
   "file_extension": ".py",
   "mimetype": "text/x-python",
   "name": "python",
   "nbconvert_exporter": "python",
   "pygments_lexer": "ipython3",
   "version": "3.9.2"
  }
 },
 "nbformat": 4,
 "nbformat_minor": 2
}
