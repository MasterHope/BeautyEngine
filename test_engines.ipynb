{
 "cells": [
  {
   "cell_type": "code",
   "execution_count": 13,
   "metadata": {},
   "outputs": [
    {
     "name": "stdout",
     "output_type": "stream",
     "text": [
      "  0%|          | 0/50 [00:00<?, ?it/s]"
     ]
    },
    {
     "name": "stderr",
     "output_type": "stream",
     "text": [
      "<UciProtocol (pid=4508)>: stderr >> Assertion failed: (at(move.from()) < Piece::BLACKPAWN) == (stm_ == Color::WHITE), file C:\\Users\\belle\\OneDrive\\Desktop\\chess_thesis\\BeautyEngine\\chess-library-master/include/chess.hpp, line 1887\n"
     ]
    },
    {
     "name": "stdout",
     "output_type": "stream",
     "text": [
      "  0%|          | 0/50 [00:13<?, ?it/s]\n"
     ]
    },
    {
     "ename": "EngineTerminatedError",
     "evalue": "engine process died unexpectedly (exit code: 3)",
     "output_type": "error",
     "traceback": [
      "\u001b[1;31m---------------------------------------------------------------------------\u001b[0m",
      "\u001b[1;31mEngineTerminatedError\u001b[0m                     Traceback (most recent call last)",
      "Cell \u001b[1;32mIn[13], line 60\u001b[0m\n\u001b[0;32m     58\u001b[0m dict_result_game \u001b[38;5;241m=\u001b[39m {\u001b[38;5;124m\"\u001b[39m\u001b[38;5;124mwin\u001b[39m\u001b[38;5;124m\"\u001b[39m:\u001b[38;5;241m0\u001b[39m, \u001b[38;5;124m\"\u001b[39m\u001b[38;5;124mdraw\u001b[39m\u001b[38;5;124m\"\u001b[39m:\u001b[38;5;241m0\u001b[39m, \u001b[38;5;124m\"\u001b[39m\u001b[38;5;124mloss\u001b[39m\u001b[38;5;124m\"\u001b[39m:\u001b[38;5;241m0\u001b[39m}\n\u001b[0;32m     59\u001b[0m \u001b[38;5;28;01mfor\u001b[39;00m i \u001b[38;5;129;01min\u001b[39;00m tqdm(\u001b[38;5;28mrange\u001b[39m(episodes), file\u001b[38;5;241m=\u001b[39msys\u001b[38;5;241m.\u001b[39mstdout):\n\u001b[1;32m---> 60\u001b[0m     \u001b[43mengine_test\u001b[49m\u001b[43m(\u001b[49m\u001b[43mdir1\u001b[49m\u001b[43m,\u001b[49m\u001b[43m \u001b[49m\u001b[43mdir2\u001b[49m\u001b[43m,\u001b[49m\u001b[43m \u001b[49m\u001b[43msecond_for_move\u001b[49m\u001b[43m,\u001b[49m\u001b[43m{\u001b[49m\u001b[38;5;124;43m\"\u001b[39;49m\u001b[38;5;124;43mSkill level\u001b[39;49m\u001b[38;5;124;43m\"\u001b[39;49m\u001b[43m:\u001b[49m\u001b[38;5;241;43m4\u001b[39;49m\u001b[43m}\u001b[49m\u001b[43m,\u001b[49m\u001b[43m \u001b[49m\u001b[43mdict_result_game\u001b[49m\u001b[43m)\u001b[49m\n\u001b[0;32m     61\u001b[0m \u001b[38;5;28mprint\u001b[39m(dict_result_game)\n",
      "Cell \u001b[1;32mIn[13], line 19\u001b[0m, in \u001b[0;36mengine_test\u001b[1;34m(dir1, dir2, timeSeconds, engine2_options, dict_result_game)\u001b[0m\n\u001b[0;32m     17\u001b[0m \u001b[38;5;28;01mif\u001b[39;00m turn \u001b[38;5;241m==\u001b[39m \u001b[38;5;241m0\u001b[39m:\n\u001b[0;32m     18\u001b[0m     \u001b[38;5;28;01mif\u001b[39;00m board\u001b[38;5;241m.\u001b[39mturn \u001b[38;5;241m==\u001b[39m chess\u001b[38;5;241m.\u001b[39mWHITE:\n\u001b[1;32m---> 19\u001b[0m         result \u001b[38;5;241m=\u001b[39m \u001b[43mengine\u001b[49m\u001b[38;5;241;43m.\u001b[39;49m\u001b[43mplay\u001b[49m\u001b[43m(\u001b[49m\u001b[43mboard\u001b[49m\u001b[43m,\u001b[49m\u001b[43m \u001b[49m\u001b[43mchess\u001b[49m\u001b[38;5;241;43m.\u001b[39;49m\u001b[43mengine\u001b[49m\u001b[38;5;241;43m.\u001b[39;49m\u001b[43mLimit\u001b[49m\u001b[43m(\u001b[49m\u001b[43mtimeSeconds\u001b[49m\u001b[43m)\u001b[49m\u001b[43m)\u001b[49m\n\u001b[0;32m     20\u001b[0m     \u001b[38;5;28;01melse\u001b[39;00m:\n\u001b[0;32m     21\u001b[0m         result \u001b[38;5;241m=\u001b[39m engine2\u001b[38;5;241m.\u001b[39mplay(board, chess\u001b[38;5;241m.\u001b[39mengine\u001b[38;5;241m.\u001b[39mLimit(timeSeconds))\n",
      "File \u001b[1;32mc:\\Users\\belle\\AppData\\Local\\Programs\\Python\\Python39\\lib\\site-packages\\chess\\engine.py:2982\u001b[0m, in \u001b[0;36mSimpleEngine.play\u001b[1;34m(self, board, limit, game, info, ponder, draw_offered, root_moves, options, opponent)\u001b[0m\n\u001b[0;32m   2978\u001b[0m     coro \u001b[38;5;241m=\u001b[39m asyncio\u001b[38;5;241m.\u001b[39mwait_for(\n\u001b[0;32m   2979\u001b[0m         \u001b[38;5;28mself\u001b[39m\u001b[38;5;241m.\u001b[39mprotocol\u001b[38;5;241m.\u001b[39mplay(board, limit, game\u001b[38;5;241m=\u001b[39mgame, info\u001b[38;5;241m=\u001b[39minfo, ponder\u001b[38;5;241m=\u001b[39mponder, draw_offered\u001b[38;5;241m=\u001b[39mdraw_offered, root_moves\u001b[38;5;241m=\u001b[39mroot_moves, options\u001b[38;5;241m=\u001b[39moptions, opponent\u001b[38;5;241m=\u001b[39mopponent),\n\u001b[0;32m   2980\u001b[0m         \u001b[38;5;28mself\u001b[39m\u001b[38;5;241m.\u001b[39m_timeout_for(limit))\n\u001b[0;32m   2981\u001b[0m     future \u001b[38;5;241m=\u001b[39m asyncio\u001b[38;5;241m.\u001b[39mrun_coroutine_threadsafe(coro, \u001b[38;5;28mself\u001b[39m\u001b[38;5;241m.\u001b[39mprotocol\u001b[38;5;241m.\u001b[39mloop)\n\u001b[1;32m-> 2982\u001b[0m \u001b[38;5;28;01mreturn\u001b[39;00m \u001b[43mfuture\u001b[49m\u001b[38;5;241;43m.\u001b[39;49m\u001b[43mresult\u001b[49m\u001b[43m(\u001b[49m\u001b[43m)\u001b[49m\n",
      "File \u001b[1;32mc:\\Users\\belle\\AppData\\Local\\Programs\\Python\\Python39\\lib\\concurrent\\futures\\_base.py:440\u001b[0m, in \u001b[0;36mFuture.result\u001b[1;34m(self, timeout)\u001b[0m\n\u001b[0;32m    438\u001b[0m     \u001b[38;5;28;01mraise\u001b[39;00m CancelledError()\n\u001b[0;32m    439\u001b[0m \u001b[38;5;28;01melif\u001b[39;00m \u001b[38;5;28mself\u001b[39m\u001b[38;5;241m.\u001b[39m_state \u001b[38;5;241m==\u001b[39m FINISHED:\n\u001b[1;32m--> 440\u001b[0m     \u001b[38;5;28;01mreturn\u001b[39;00m \u001b[38;5;28;43mself\u001b[39;49m\u001b[38;5;241;43m.\u001b[39;49m\u001b[43m__get_result\u001b[49m\u001b[43m(\u001b[49m\u001b[43m)\u001b[49m\n\u001b[0;32m    441\u001b[0m \u001b[38;5;28;01melse\u001b[39;00m:\n\u001b[0;32m    442\u001b[0m     \u001b[38;5;28;01mraise\u001b[39;00m \u001b[38;5;167;01mTimeoutError\u001b[39;00m()\n",
      "File \u001b[1;32mc:\\Users\\belle\\AppData\\Local\\Programs\\Python\\Python39\\lib\\concurrent\\futures\\_base.py:389\u001b[0m, in \u001b[0;36mFuture.__get_result\u001b[1;34m(self)\u001b[0m\n\u001b[0;32m    387\u001b[0m \u001b[38;5;28;01mdef\u001b[39;00m \u001b[38;5;21m__get_result\u001b[39m(\u001b[38;5;28mself\u001b[39m):\n\u001b[0;32m    388\u001b[0m     \u001b[38;5;28;01mif\u001b[39;00m \u001b[38;5;28mself\u001b[39m\u001b[38;5;241m.\u001b[39m_exception:\n\u001b[1;32m--> 389\u001b[0m         \u001b[38;5;28;01mraise\u001b[39;00m \u001b[38;5;28mself\u001b[39m\u001b[38;5;241m.\u001b[39m_exception\n\u001b[0;32m    390\u001b[0m     \u001b[38;5;28;01melse\u001b[39;00m:\n\u001b[0;32m    391\u001b[0m         \u001b[38;5;28;01mreturn\u001b[39;00m \u001b[38;5;28mself\u001b[39m\u001b[38;5;241m.\u001b[39m_result\n",
      "File \u001b[1;32mc:\\Users\\belle\\AppData\\Local\\Programs\\Python\\Python39\\lib\\asyncio\\tasks.py:481\u001b[0m, in \u001b[0;36mwait_for\u001b[1;34m(fut, timeout, loop)\u001b[0m\n\u001b[0;32m    478\u001b[0m         \u001b[38;5;28;01mraise\u001b[39;00m\n\u001b[0;32m    480\u001b[0m \u001b[38;5;28;01mif\u001b[39;00m fut\u001b[38;5;241m.\u001b[39mdone():\n\u001b[1;32m--> 481\u001b[0m     \u001b[38;5;28;01mreturn\u001b[39;00m \u001b[43mfut\u001b[49m\u001b[38;5;241;43m.\u001b[39;49m\u001b[43mresult\u001b[49m\u001b[43m(\u001b[49m\u001b[43m)\u001b[49m\n\u001b[0;32m    482\u001b[0m \u001b[38;5;28;01melse\u001b[39;00m:\n\u001b[0;32m    483\u001b[0m     fut\u001b[38;5;241m.\u001b[39mremove_done_callback(cb)\n",
      "File \u001b[1;32mc:\\Users\\belle\\AppData\\Local\\Programs\\Python\\Python39\\lib\\site-packages\\chess\\engine.py:1789\u001b[0m, in \u001b[0;36mUciProtocol.play\u001b[1;34m(self, board, limit, game, info, ponder, draw_offered, root_moves, options, opponent)\u001b[0m\n\u001b[0;32m   1786\u001b[0m         \u001b[38;5;28;01mif\u001b[39;00m \u001b[38;5;129;01mnot\u001b[39;00m \u001b[38;5;28mself\u001b[39m\u001b[38;5;241m.\u001b[39mresult\u001b[38;5;241m.\u001b[39mdone():\n\u001b[0;32m   1787\u001b[0m             \u001b[38;5;28msuper\u001b[39m()\u001b[38;5;241m.\u001b[39mengine_terminated(engine, exc)\n\u001b[1;32m-> 1789\u001b[0m \u001b[38;5;28;01mreturn\u001b[39;00m \u001b[38;5;28;01mawait\u001b[39;00m \u001b[38;5;28mself\u001b[39m\u001b[38;5;241m.\u001b[39mcommunicate(UciPlayCommand)\n",
      "File \u001b[1;32mc:\\Users\\belle\\AppData\\Local\\Programs\\Python\\Python39\\lib\\site-packages\\chess\\engine.py:1133\u001b[0m, in \u001b[0;36mProtocol.communicate\u001b[1;34m(self, command_factory)\u001b[0m\n\u001b[0;32m   1130\u001b[0m \u001b[38;5;28;01melif\u001b[39;00m \u001b[38;5;129;01mnot\u001b[39;00m \u001b[38;5;28mself\u001b[39m\u001b[38;5;241m.\u001b[39mcommand\u001b[38;5;241m.\u001b[39mresult\u001b[38;5;241m.\u001b[39mcancelled():\n\u001b[0;32m   1131\u001b[0m     \u001b[38;5;28mself\u001b[39m\u001b[38;5;241m.\u001b[39mcommand\u001b[38;5;241m.\u001b[39m_cancel(\u001b[38;5;28mself\u001b[39m)\n\u001b[1;32m-> 1133\u001b[0m \u001b[38;5;28;01mreturn\u001b[39;00m \u001b[38;5;28;01mawait\u001b[39;00m command\u001b[38;5;241m.\u001b[39mresult\n",
      "\u001b[1;31mEngineTerminatedError\u001b[0m: engine process died unexpectedly (exit code: 3)"
     ]
    }
   ],
   "source": [
    "import chess\n",
    "import chess.engine\n",
    "import chess.pgn\n",
    "import sys\n",
    "\n",
    "import random\n",
    "from tqdm import tqdm\n",
    "\n",
    "def engine_test(dir1, dir2, timeSeconds, engine2_options, dict_result_game):\n",
    "    engine = chess.engine.SimpleEngine.popen_uci(dir1)\n",
    "    engine2 = chess.engine.SimpleEngine.popen_uci(dir2)\n",
    "    engine2.configure(engine2_options)\n",
    "    result = None\n",
    "    turn = random.randrange(0,1)\n",
    "    board = chess.Board()\n",
    "    while not board.is_game_over():\n",
    "        if turn == 0:\n",
    "            if board.turn == chess.WHITE:\n",
    "                result = engine.play(board, chess.engine.Limit(timeSeconds))\n",
    "            else:\n",
    "                result = engine2.play(board, chess.engine.Limit(timeSeconds))\n",
    "        else:\n",
    "            if board.turn == chess.BLACK:\n",
    "                result = engine.play(board, chess.engine.Limit(timeSeconds))\n",
    "            else:\n",
    "                result = engine2.play(board, chess.engine.Limit(timeSeconds))\n",
    "        \"\"\"  \"\"\"\n",
    "        board.push(result.move)\n",
    "    #game ended  \n",
    "    player_to_win = board.outcome().winner\n",
    "    if turn == 0:\n",
    "        if player_to_win == chess.WHITE:\n",
    "            dict_result_game[\"win\"] += 1\n",
    "        elif player_to_win == chess.BLACK:\n",
    "            dict_result_game[\"loss\"] += 1\n",
    "        else:\n",
    "            dict_result_game[\"draw\"] += 1\n",
    "    else:\n",
    "        if player_to_win == chess.BLACK:\n",
    "            dict_result_game[\"win\"] += 1\n",
    "        elif player_to_win == chess.WHITE:\n",
    "            dict_result_game[\"loss\"] += 1\n",
    "        else:\n",
    "            dict_result_game[\"draw\"] += 1\n",
    "\n",
    "    engine.quit()\n",
    "    engine2.quit()\n",
    "    return dict_result_game\n",
    "\n",
    "\n",
    "    \n",
    "    \n",
    "dir1 = r\"C:\\Users\\belle\\OneDrive\\Desktop\\chess_thesis\\BeautyEngine\\play.exe\"\n",
    "dir2 = r\"C:\\Users\\belle\\OneDrive\\Desktop\\chess_thesis\\BeautyEngine\\stockfish-windows-x86-64-avx2.exe\"\n",
    "dir3 = r\"C:\\Users\\belle\\OneDrive\\Desktop\\chess_thesis\\BeautyEngine\\fairy-stockfish_x86-64.exe\"\n",
    "second_for_move = 0.2\n",
    "episodes = 50\n",
    "dict_result_game = {\"win\":0, \"draw\":0, \"loss\":0}\n",
    "for i in tqdm(range(episodes), file=sys.stdout):\n",
    "    engine_test(dir1, dir2, second_for_move,{\"Skill level\":4}, dict_result_game)\n",
    "print(dict_result_game)\n",
    "\n",
    "\n"
   ]
  }
 ],
 "metadata": {
  "kernelspec": {
   "display_name": "Python 3",
   "language": "python",
   "name": "python3"
  },
  "language_info": {
   "codemirror_mode": {
    "name": "ipython",
    "version": 3
   },
   "file_extension": ".py",
   "mimetype": "text/x-python",
   "name": "python",
   "nbconvert_exporter": "python",
   "pygments_lexer": "ipython3",
   "version": "3.9.2"
  }
 },
 "nbformat": 4,
 "nbformat_minor": 2
}
