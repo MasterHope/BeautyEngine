{
 "cells": [
  {
   "cell_type": "code",
   "execution_count": 21,
   "metadata": {},
   "outputs": [
    {
     "ename": "RuntimeError",
     "evalue": "asyncio.run() cannot be called from a running event loop",
     "output_type": "error",
     "traceback": [
      "\u001b[1;31m---------------------------------------------------------------------------\u001b[0m",
      "\u001b[1;31mRuntimeError\u001b[0m                              Traceback (most recent call last)",
      "Cell \u001b[1;32mIn[21], line 54\u001b[0m\n\u001b[0;32m     52\u001b[0m dir1 \u001b[38;5;241m=\u001b[39m \u001b[38;5;124mr\u001b[39m\u001b[38;5;124m\"\u001b[39m\u001b[38;5;124mC:\u001b[39m\u001b[38;5;124m\\\u001b[39m\u001b[38;5;124mUsers\u001b[39m\u001b[38;5;124m\\\u001b[39m\u001b[38;5;124mbelle\u001b[39m\u001b[38;5;124m\\\u001b[39m\u001b[38;5;124mOneDrive\u001b[39m\u001b[38;5;124m\\\u001b[39m\u001b[38;5;124mDesktop\u001b[39m\u001b[38;5;124m\\\u001b[39m\u001b[38;5;124mchess_thesis\u001b[39m\u001b[38;5;124m\\\u001b[39m\u001b[38;5;124mBeautyEngine\u001b[39m\u001b[38;5;124m\\\u001b[39m\u001b[38;5;124mplay.exe\u001b[39m\u001b[38;5;124m\"\u001b[39m\n\u001b[0;32m     53\u001b[0m dir2 \u001b[38;5;241m=\u001b[39m \u001b[38;5;124mr\u001b[39m\u001b[38;5;124m\"\u001b[39m\u001b[38;5;124mC:\u001b[39m\u001b[38;5;124m\\\u001b[39m\u001b[38;5;124mUsers\u001b[39m\u001b[38;5;124m\\\u001b[39m\u001b[38;5;124mbelle\u001b[39m\u001b[38;5;124m\\\u001b[39m\u001b[38;5;124mOneDrive\u001b[39m\u001b[38;5;124m\\\u001b[39m\u001b[38;5;124mDesktop\u001b[39m\u001b[38;5;124m\\\u001b[39m\u001b[38;5;124mchess_thesis\u001b[39m\u001b[38;5;124m\\\u001b[39m\u001b[38;5;124mBeautyEngine\u001b[39m\u001b[38;5;124m\\\u001b[39m\u001b[38;5;124mstockfish-windows-x86-64-avx2.exe\u001b[39m\u001b[38;5;124m\"\u001b[39m\n\u001b[1;32m---> 54\u001b[0m \u001b[38;5;28mprint\u001b[39m(\u001b[43masyncio\u001b[49m\u001b[38;5;241;43m.\u001b[39;49m\u001b[43mrun\u001b[49m\u001b[43m(\u001b[49m\u001b[43mengine_test\u001b[49m\u001b[43m(\u001b[49m\u001b[43mdir1\u001b[49m\u001b[43m,\u001b[49m\u001b[43m \u001b[49m\u001b[43mdir2\u001b[49m\u001b[43m,\u001b[49m\u001b[43m \u001b[49m\u001b[38;5;241;43m0.1\u001b[39;49m\u001b[43m,\u001b[49m\u001b[43m \u001b[49m\u001b[38;5;241;43m5\u001b[39;49m\u001b[43m)\u001b[49m\u001b[43m)\u001b[49m)\n",
      "File \u001b[1;32mc:\\Users\\belle\\AppData\\Local\\Programs\\Python\\Python39\\lib\\asyncio\\runners.py:33\u001b[0m, in \u001b[0;36mrun\u001b[1;34m(main, debug)\u001b[0m\n\u001b[0;32m      9\u001b[0m \u001b[38;5;250m\u001b[39m\u001b[38;5;124;03m\"\"\"Execute the coroutine and return the result.\u001b[39;00m\n\u001b[0;32m     10\u001b[0m \n\u001b[0;32m     11\u001b[0m \u001b[38;5;124;03mThis function runs the passed coroutine, taking care of\u001b[39;00m\n\u001b[1;32m   (...)\u001b[0m\n\u001b[0;32m     30\u001b[0m \u001b[38;5;124;03m    asyncio.run(main())\u001b[39;00m\n\u001b[0;32m     31\u001b[0m \u001b[38;5;124;03m\"\"\"\u001b[39;00m\n\u001b[0;32m     32\u001b[0m \u001b[38;5;28;01mif\u001b[39;00m events\u001b[38;5;241m.\u001b[39m_get_running_loop() \u001b[38;5;129;01mis\u001b[39;00m \u001b[38;5;129;01mnot\u001b[39;00m \u001b[38;5;28;01mNone\u001b[39;00m:\n\u001b[1;32m---> 33\u001b[0m     \u001b[38;5;28;01mraise\u001b[39;00m \u001b[38;5;167;01mRuntimeError\u001b[39;00m(\n\u001b[0;32m     34\u001b[0m         \u001b[38;5;124m\"\u001b[39m\u001b[38;5;124masyncio.run() cannot be called from a running event loop\u001b[39m\u001b[38;5;124m\"\u001b[39m)\n\u001b[0;32m     36\u001b[0m \u001b[38;5;28;01mif\u001b[39;00m \u001b[38;5;129;01mnot\u001b[39;00m coroutines\u001b[38;5;241m.\u001b[39miscoroutine(main):\n\u001b[0;32m     37\u001b[0m     \u001b[38;5;28;01mraise\u001b[39;00m \u001b[38;5;167;01mValueError\u001b[39;00m(\u001b[38;5;124m\"\u001b[39m\u001b[38;5;124ma coroutine was expected, got \u001b[39m\u001b[38;5;132;01m{!r}\u001b[39;00m\u001b[38;5;124m\"\u001b[39m\u001b[38;5;241m.\u001b[39mformat(main))\n",
      "\u001b[1;31mRuntimeError\u001b[0m: asyncio.run() cannot be called from a running event loop"
     ]
    }
   ],
   "source": [
    "import chess\n",
    "import chess.engine\n",
    "import random\n",
    "from tqdm import tqdm\n",
    "\n",
    "def engine_test(dir1, dir2, timeSeconds, numEpisodes):\n",
    "    engine = chess.engine.SimpleEngine.popen_uci(dir1)\n",
    "    engine2 = chess.engine.SimpleEngine.popen_uci(dir2)\n",
    "    engine2.configure({\"UCI_elo\":1320})\n",
    "    result = None\n",
    "    dict_result_game = {\"win\":0, \"draw\":0, \"loss\":0}\n",
    "    for i in tqdm(range(0, numEpisodes)):\n",
    "        turn = random.randrange(0,1)\n",
    "        board = chess.Board()\n",
    "        while not board.is_game_over():\n",
    "            if turn == 0:\n",
    "                if board.turn == chess.WHITE:\n",
    "                    result = engine.play(board, chess.engine.Limit(timeSeconds))\n",
    "                else:\n",
    "                    result = engine2.play(board, chess.engine.Limit(timeSeconds))\n",
    "            else:\n",
    "                if board.turn == chess.BLACK:\n",
    "                    result = engine.play(board, chess.engine.Limit(timeSeconds))\n",
    "                else:\n",
    "                    result = engine2.play(board, chess.engine.Limit(timeSeconds))\n",
    "            board.push(result.move)\n",
    "        #game ended\n",
    "        player_to_win = board.outcome().winner\n",
    "        if turn == 0:\n",
    "            if player_to_win == chess.WHITE:\n",
    "                dict_result_game[\"win\"] += 1\n",
    "            elif player_to_win == chess.BLACK:\n",
    "                dict_result_game[\"loss\"] += 1\n",
    "            else:\n",
    "                dict_result_game[\"draw\"] += 1\n",
    "        else:\n",
    "            if player_to_win == chess.BLACK:\n",
    "                dict_result_game[\"win\"] += 1\n",
    "            elif player_to_win == chess.WHITE:\n",
    "                dict_result_game[\"loss\"] += 1\n",
    "            else:\n",
    "                dict_result_game[\"draw\"] += 1\n",
    "\n",
    "    engine.quit()\n",
    "    engine2.quit()\n",
    "    return dict_result_game\n",
    "\n",
    "\n",
    "    \n",
    "    \n",
    "dir1 = r\"C:\\Users\\belle\\OneDrive\\Desktop\\chess_thesis\\BeautyEngine\\play.exe\"\n",
    "dir2 = r\"C:\\Users\\belle\\OneDrive\\Desktop\\chess_thesis\\BeautyEngine\\stockfish-windows-x86-64-avx2.exe\"\n",
    "second_for_move = 0.1\n",
    "episodes = 5\n",
    "print(engine_test(dir1, dir2, second_for_move, episodes))\n",
    "\n",
    "\n"
   ]
  }
 ],
 "metadata": {
  "kernelspec": {
   "display_name": "Python 3",
   "language": "python",
   "name": "python3"
  },
  "language_info": {
   "codemirror_mode": {
    "name": "ipython",
    "version": 3
   },
   "file_extension": ".py",
   "mimetype": "text/x-python",
   "name": "python",
   "nbconvert_exporter": "python",
   "pygments_lexer": "ipython3",
   "version": "3.9.2"
  }
 },
 "nbformat": 4,
 "nbformat_minor": 2
}
